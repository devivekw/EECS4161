{
 "cells": [
  {
   "cell_type": "code",
   "execution_count": 40,
   "metadata": {},
   "outputs": [
    {
     "name": "stdout",
     "output_type": "stream",
     "text": [
      "184 166\n"
     ]
    }
   ],
   "source": [
    "# Key1 = 0b10111000 # bin(184)\n",
    "# Key2 = 0b10100110 # bin(166)\n",
    "BASE = 255\n",
    "def reverse_bits(num):\n",
    "    return int((~num) & BASE)\n",
    "\n",
    "Key1 = 184\n",
    "Key2 = 166\n",
    "print(Key1, Key2)"
   ]
  },
  {
   "cell_type": "code",
   "execution_count": 54,
   "metadata": {},
   "outputs": [
    {
     "name": "stdout",
     "output_type": "stream",
     "text": [
      "168\n",
      "43 168\n"
     ]
    }
   ],
   "source": [
    "C1 = int(0b01101100)\n",
    "C2 = int(0b11110001)\n",
    "\n",
    "C2_inter = C1\n",
    "C1_inter = reverse_bits(Key2 ^ C2)\n",
    "print(C1_inter)\n",
    "\n",
    "P2 = C1_inter\n",
    "P1 = reverse_bits(Key1 ^ C2_inter)\n",
    "print((P1), (P2))"
   ]
  },
  {
   "cell_type": "code",
   "execution_count": 49,
   "metadata": {},
   "outputs": [
    {
     "name": "stdout",
     "output_type": "stream",
     "text": [
      "241\n"
     ]
    }
   ],
   "source": []
  }
 ],
 "metadata": {
  "kernelspec": {
   "display_name": "Python 3",
   "language": "python",
   "name": "python3"
  },
  "language_info": {
   "codemirror_mode": {
    "name": "ipython",
    "version": 3
   },
   "file_extension": ".py",
   "mimetype": "text/x-python",
   "name": "python",
   "nbconvert_exporter": "python",
   "pygments_lexer": "ipython3",
   "version": "3.10.9 (tags/v3.10.9:1dd9be6, Dec  6 2022, 20:01:21) [MSC v.1934 64 bit (AMD64)]"
  },
  "orig_nbformat": 4,
  "vscode": {
   "interpreter": {
    "hash": "eaf19cdec2e828971a8f1b3f8a05d25adfb7e416d3e3fa69f7741b1aac1d4820"
   }
  }
 },
 "nbformat": 4,
 "nbformat_minor": 2
}
