{
 "cells": [
  {
   "cell_type": "code",
   "execution_count": 14,
   "metadata": {},
   "outputs": [],
   "source": [
    "key = [\n",
    "    ['F','1','U','Y','R'],\n",
    "    ['L','2','G','W','3'],\n",
    "    ['I','4','X','A','5'],\n",
    "    ['H','Z','D','Q','M'],\n",
    "    ['B','T','O','S','K'],\n",
    "]\n",
    "\n",
    "cipher = 'HL US GO TX OK SN XZ UB YK KD CK BH XC US YG HI IL IW IL KU VX PS BH XC XU UM TX VW XQ VL'.split(' ')\n",
    "cipher = [list(c) for c in cipher]\n"
   ]
  },
  {
   "cell_type": "code",
   "execution_count": 23,
   "metadata": {},
   "outputs": [
    {
     "name": "stdout",
     "output_type": "stream",
     "text": [
      "I F Y O U D O N T S T A N D F O R S O M E T H I N G Y O U W I L L F A L L F O R A N Y T H I N G G O R D O N A E A D I E "
     ]
    }
   ],
   "source": [
    "def find_pos(key_local, letter):\n",
    "    for i in range(len(key_local)):\n",
    "        for j in range(len(key_local)):\n",
    "            if key_local[i][j] == letter:\n",
    "                return [i, j]\n",
    "    \n",
    "    return None\n",
    "\n",
    "def print_text(key_local):\n",
    "    for c_arr in cipher:\n",
    "        first_pos = find_pos(key_local, c_arr[0])\n",
    "        second_pos = find_pos(key_local, c_arr[1])\n",
    "        # print(c_arr, first_pos, second_pos, end='')\n",
    "\n",
    "        # print(c_arr, '  ', end='')\n",
    "        \n",
    "        if first_pos and second_pos:\n",
    "            # same col\n",
    "            if first_pos[0] == second_pos[0]:\n",
    "                print(\n",
    "                    key_local[(first_pos[0])%5][(first_pos[1] - 1)%5],\n",
    "                    key_local[(second_pos[0])%5][(second_pos[1]- 1)%5],\n",
    "                    end=''\n",
    "                ,)\n",
    "\n",
    "            # same row\n",
    "            elif first_pos[1] == second_pos[1]:\n",
    "                print(\n",
    "                    key_local[(first_pos[0] - 1)%5][(first_pos[1])%5],\n",
    "                    key_local[(second_pos[0] - 1)%5][(second_pos[1])%5],\n",
    "                    end=''\n",
    "                ,)\n",
    "            \n",
    "            # corner to corner\n",
    "            else:\n",
    "                print(\n",
    "                    key_local[(first_pos[0])%5][(second_pos[1])%5],\n",
    "                    key_local[(second_pos[0])%5][(first_pos[1])%5],\n",
    "                    end=''\n",
    "                ,)\n",
    "            \n",
    "        else:\n",
    "            print('? ?', end='')\n",
    "        \n",
    "        print(' ', end='')\n",
    "\n",
    "key_TRY = [\n",
    "['F','P','U','Y','R'],\n",
    "['L','C','G','W','E'],\n",
    "['I','N','X','A','V'],\n",
    "['H','Z','D','Q','M'],\n",
    "['B','T','O','S','K'],\n",
    "]\n",
    "\n",
    "print_text(key_TRY)"
   ]
  },
  {
   "attachments": {},
   "cell_type": "markdown",
   "metadata": {},
   "source": [
    "#### I F  Y O U  D O 4 T S ? ? 4 D  F O R  S O M ? ? H I ? ?  Y O U  W I L L  F A L L   F O R  ? ? ? ? H I ? ? G O R D O 4 ? ? A D ? ? \n",
    "\n",
    "IF YOU DONT STAND FOR SOMETHING YOU WILL FALL FOR ANYTHING\n",
    "\n",
    "> guessing  S O M ? ? H I ? ? stands for **SOMETHING**\n",
    "\n"
   ]
  },
  {
   "cell_type": "code",
   "execution_count": 26,
   "metadata": {},
   "outputs": [
    {
     "name": "stdout",
     "output_type": "stream",
     "text": [
      "F  P  U  Y  R  \n",
      "L  C  G  W  E  \n",
      "I  N  X  A  V  \n",
      "H  Z  D  Q  M  \n",
      "B  T  O  S  K  \n"
     ]
    }
   ],
   "source": [
    "for i in key_TRY:\n",
    "    for j in i:\n",
    "        print(j, end='  ')\n",
    "    print()"
   ]
  }
 ],
 "metadata": {
  "kernelspec": {
   "display_name": "Python 3",
   "language": "python",
   "name": "python3"
  },
  "language_info": {
   "codemirror_mode": {
    "name": "ipython",
    "version": 3
   },
   "file_extension": ".py",
   "mimetype": "text/x-python",
   "name": "python",
   "nbconvert_exporter": "python",
   "pygments_lexer": "ipython3",
   "version": "3.11.0"
  },
  "orig_nbformat": 4,
  "vscode": {
   "interpreter": {
    "hash": "bc8aaad90f9dd1b0aed67e50afa4c3eeab1b08e7c70f9117c907523dc42af02b"
   }
  }
 },
 "nbformat": 4,
 "nbformat_minor": 2
}
