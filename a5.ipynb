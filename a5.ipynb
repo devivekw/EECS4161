{
 "cells": [
  {
   "cell_type": "code",
   "execution_count": 4,
   "metadata": {},
   "outputs": [],
   "source": [
    "key = [\n",
    "    ['F','1','U','Y','R'],\n",
    "    ['L','2','G','W','3'],\n",
    "    ['I','4','X','A','5'],\n",
    "    ['H','Z','D','Q','M'],\n",
    "    ['B','T','O','S','K'],\n",
    "]\n",
    "\n",
    "cipher = 'HL US GO TX OK SN XZ UB YK KD CK BH XC US YG HI IL IW IL KU VX PS BH XC XU UM TX VW XQ VL'.split(' ')\n",
    "cipher = [list(c) for c in cipher]"
   ]
  },
  {
   "cell_type": "code",
   "execution_count": 32,
   "metadata": {},
   "outputs": [
    {
     "data": {
      "text/plain": [
       "1"
      ]
     },
     "execution_count": 32,
     "metadata": {},
     "output_type": "execute_result"
    }
   ],
   "source": [
    "(3 + 5) // 5"
   ]
  },
  {
   "cell_type": "code",
   "execution_count": 41,
   "metadata": {},
   "outputs": [
    {
     "name": "stdout",
     "output_type": "stream",
     "text": [
      "I F Y O U D O 4 T S ? ? 4 D F O R S O M ? ? H I ? ? Y O U W I L L F A L L F O R ? ? ? ? H I ? ? G O R D O 4 ? ? A D ? ? "
     ]
    }
   ],
   "source": [
    "def find_pos(letter):\n",
    "    for i in range(len(key)):\n",
    "        for j in range(len(key)):\n",
    "            if key[i][j] == letter:\n",
    "                return [i, j]\n",
    "    \n",
    "    return None\n",
    "\n",
    "for c_arr in cipher:\n",
    "    first_pos = find_pos(c_arr[0])\n",
    "    second_pos = find_pos(c_arr[1])\n",
    "\n",
    "    # print(c_arr, '  ', end='')\n",
    "    \n",
    "    if first_pos and second_pos:\n",
    "        # same col\n",
    "        if first_pos[0] == second_pos[0]:\n",
    "            print(\n",
    "                key[(first_pos[0])%5][(first_pos[1] - 1)%5],\n",
    "                key[(second_pos[0])%5][(second_pos[1]- 1)%5],\n",
    "                end=''\n",
    "            ,)\n",
    "\n",
    "        # same row\n",
    "        elif first_pos[1] == second_pos[1]:\n",
    "            print(\n",
    "                key[(first_pos[0] - 1)%5][(first_pos[1])%5],\n",
    "                key[(second_pos[0] - 1)%5][(second_pos[1])%5],\n",
    "                end=''\n",
    "            ,)\n",
    "        \n",
    "        # corner to corner\n",
    "        else:\n",
    "            print(\n",
    "                key[(first_pos[0])%5][(second_pos[1])%5],\n",
    "                key[(second_pos[0])%5][(first_pos[1])%5],\n",
    "                end=''\n",
    "            ,)\n",
    "        \n",
    "    else:\n",
    "        print('? ?', end='')\n",
    "    \n",
    "    print(' ', end='')\n",
    "\n",
    "    "
   ]
  },
  {
   "attachments": {},
   "cell_type": "markdown",
   "metadata": {},
   "source": [
    "#### I F  Y O U  D O 4 T S ? ? 4 D  F O R  S O M ? ? H I ? ?  Y O U  W I L L  F A L L   F O R  ? ? ? ? H I ? ? G O R D O 4 ? ? A D ? ? \n",
    "\n",
    "> guessing  S O M ? ? H I ? ? stands for **SOMETHING**\n",
    "\n"
   ]
  },
  {
   "cell_type": "code",
   "execution_count": 46,
   "metadata": {},
   "outputs": [
    {
     "name": "stdout",
     "output_type": "stream",
     "text": [
      "['Y', 'K']   R S \n",
      "['K', 'D']   O M \n",
      "['C', 'K']   ? ? \n",
      "['B', 'H']   H I \n",
      "['X', 'C']   ? ? \n"
     ]
    }
   ],
   "source": [
    "for c_arr in cipher[8:13]:\n",
    "    first_pos = find_pos(c_arr[0])\n",
    "    second_pos = find_pos(c_arr[1])\n",
    "\n",
    "    print(c_arr, '  ', end='')\n",
    "    \n",
    "    if first_pos and second_pos:\n",
    "        # same col\n",
    "        if first_pos[0] == second_pos[0]:\n",
    "            print(\n",
    "                key[(first_pos[0])%5][(first_pos[1] - 1)%5],\n",
    "                key[(second_pos[0])%5][(second_pos[1]- 1)%5],\n",
    "                end=''\n",
    "            ,)\n",
    "\n",
    "        # same row\n",
    "        elif first_pos[1] == second_pos[1]:\n",
    "            print(\n",
    "                key[(first_pos[0] - 1)%5][(first_pos[1])%5],\n",
    "                key[(second_pos[0] - 1)%5][(second_pos[1])%5],\n",
    "                end=''\n",
    "            ,)\n",
    "        \n",
    "        # corner to corner\n",
    "        else:\n",
    "            print(\n",
    "                key[(first_pos[0])%5][(second_pos[1])%5],\n",
    "                key[(second_pos[0])%5][(first_pos[1])%5],\n",
    "                end=''\n",
    "            ,)\n",
    "        \n",
    "    else:\n",
    "        print('? ?', end='')\n",
    "    \n",
    "    print(' \\n', end='')"
   ]
  },
  {
   "attachments": {},
   "cell_type": "markdown",
   "metadata": {},
   "source": [
    "['Y', 'K']   R S \n",
    "['K', 'D']   O M \n",
    "['C', 'K']   ? ? \n",
    "['B', 'H']   H I \n",
    "['X', 'C']   ? ? \n",
    "\n",
    "if it is SOMETHING then =>\n"
   ]
  }
 ],
 "metadata": {
  "kernelspec": {
   "display_name": "Python 3",
   "language": "python",
   "name": "python3"
  },
  "language_info": {
   "codemirror_mode": {
    "name": "ipython",
    "version": 3
   },
   "file_extension": ".py",
   "mimetype": "text/x-python",
   "name": "python",
   "nbconvert_exporter": "python",
   "pygments_lexer": "ipython3",
   "version": "3.10.9"
  },
  "orig_nbformat": 4,
  "vscode": {
   "interpreter": {
    "hash": "eaf19cdec2e828971a8f1b3f8a05d25adfb7e416d3e3fa69f7741b1aac1d4820"
   }
  }
 },
 "nbformat": 4,
 "nbformat_minor": 2
}
