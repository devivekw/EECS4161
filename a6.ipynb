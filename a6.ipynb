{
 "cells": [
  {
   "cell_type": "code",
   "execution_count": 18,
   "metadata": {},
   "outputs": [
    {
     "name": "stdout",
     "output_type": "stream",
     "text": [
      "1  : F  D  D  F  X  F  X  A  D  X  D  X  X  X  D  V  F  X  X  F  D  X  D  D  D  \n",
      "2  : X  G  D  D  D  A  X  F  A  F  G  G  G  V  G  D  D  X  D  D  V  D  D  X  A  \n",
      "3  : D  D  D  G  G  X  D  X  V  G  X  G  A  D  D  A  D  G  D  G  V  A  G  X  X  \n",
      "4  : G  D  A  D  X  X  G  D  X  X  A  D  A  X  V  X  G  D  A  X  V  V  D  X  F  \n",
      "5  : A  X  X  A  D  V  X  G  V  V  G  D  A  F  X  D  X  D  D  A  X  X  A  G  G  \n",
      "6  : V  D  D  D  D  D  D  D  X  V  X  D  A  D  D  G  V  D  V  V  G  G  D  X  X  \n"
     ]
    }
   ],
   "source": [
    "cipher_str = 'FDDFX FXADX DXXXD VFXXF DXDDD XGDDD AXFAF GGGVG DDXDD VDDXA DDDGG XDXVG XGADD ADGDG VAGXX GDADX XGDXX ADAXV XGDAX VVDXF AXXAD VXGVV GDAFX DXDDA XXAGG VDDDD DDDXV XDADD GVDVV GGDXX'\n",
    "cipher_str = (\"\").join(cipher_str.split(\" \"))\n",
    "cipher = list(cipher_str)\n",
    "\n",
    "NUM_OF_ROWS = 6\n",
    "NUM_OF_COLS = int(len(cipher)/NUM_OF_ROWS)\n",
    "\n",
    "tmp_cipher = [['*']*6]*25\n",
    "# tmp_cipher = [['*']*25]\n",
    "\n",
    "for i in range(NUM_OF_ROWS):\n",
    "    print(i+1, ' : ', end='')\n",
    "    for index, LETTER in enumerate(cipher_str[i*NUM_OF_COLS:(i+1)*NUM_OF_COLS]):\n",
    "        print(LETTER, ' ', end='')\n",
    "        tmp_cipher[index].append(LETTER)\n",
    "    print(\"\")\n",
    "\n"
   ]
  },
  {
   "cell_type": "code",
   "execution_count": 20,
   "metadata": {},
   "outputs": [
    {
     "data": {
      "text/plain": [
       "'VGXFDXGXAGXDDGDGXAAA'"
      ]
     },
     "execution_count": 20,
     "metadata": {},
     "output_type": "execute_result"
    }
   ],
   "source": [
    "KEY = [\n",
    "    ['P', 'A', '6', 'T', '9', '0'],\n",
    "    ['B', 'H', 'X', 'R', '7', 'I'],\n",
    "    ['G', 'D', '4', '5', 'F', 'Z'],\n",
    "    ['W', 'V', '2', '3', '8', 'N'],\n",
    "    ['J', 'C', '1', 'L', 'O', 'Q'],\n",
    "    ['U', 'E', 'Y', 'M', 'S', 'K'],\n",
    "]\n",
    "\n",
    "ADFGVX_TO_NUM = {'A': 0, 'D': 1, 'F': 2, 'G': 3, 'V': 4, 'X': 5}\n",
    "NUM_TO_ADFGVX = {0: 'A', 1: 'D', 2: 'F', 3: 'G', 4: 'V', 5: 'X'}\n",
    "\n",
    "CLUE = 'LYINTERRUP'\n",
    "CLUE_TO_ADFGVX = ''\n",
    "\n",
    "for letter in CLUE:\n",
    "    for i in range(6):\n",
    "        for j in range(6):\n",
    "            if KEY[i][j] == letter:\n",
    "                CLUE_TO_ADFGVX += (NUM_TO_ADFGVX[i] + NUM_TO_ADFGVX[j])\n",
    "                # print(letter, NUM_TO_ADFGVX[i], NUM_TO_ADFGVX[j])\n",
    "\n",
    "CLUE_TO_ADFGVX"
   ]
  },
  {
   "cell_type": "code",
   "execution_count": 24,
   "metadata": {},
   "outputs": [
    {
     "name": "stdout",
     "output_type": "stream",
     "text": [
      "V  G  X  F  D  X  \n",
      "G  X  A  G  X  D  \n",
      "D  G  D  G  X  A  \n",
      "A  A  \n",
      "--------- \n",
      "*  *  V  G  X  F  \n",
      "D  X  G  X  A  G  \n",
      "X  D  D  G  D  G  \n",
      "X  A  A  A  \n",
      "--------- \n",
      "*  *  *  *  V  G  \n",
      "X  F  D  X  G  X  \n",
      "A  G  X  D  D  G  \n",
      "D  G  X  A  A  A  \n",
      "\n",
      "--------- \n"
     ]
    }
   ],
   "source": [
    "# Find CLUE_TO_ADFGVX in cipher_str\n",
    "CLUE_MATRIX = []\n",
    "\n",
    "for o in range(0, 6, 2):\n",
    "    tmp_arr = ['O']*o\n",
    "    print('*  '*o,end='')\n",
    "    for i, letter in enumerate(CLUE_TO_ADFGVX):\n",
    "        tmp_arr.append(letter)\n",
    "        print(letter, ' ', end='')\n",
    "        if (i+o+1) % 6 == 0:\n",
    "            print(\"\")\n",
    "            CLUE_MATRIX.append(tmp_arr)\n",
    "            tmp_arr = []\n",
    "        \n",
    "        if i+1 == len(CLUE_TO_ADFGVX):\n",
    "            CLUE_MATRIX.append(tmp_arr)\n",
    "    print(\"\\n--------- \")\n",
    "    # print(CLUE_MATRIX)\n",
    "    CLUE_MATRIX=[]"
   ]
  },
  {
   "cell_type": "code",
   "execution_count": 26,
   "metadata": {},
   "outputs": [
    {
     "name": "stdout",
     "output_type": "stream",
     "text": [
      "2  : X  G  D  D  D  A  X  F  A  F  G  G  G  V  G  D  D  X  D  D  V  D  D  X  A  \n",
      "4  : G  D  A  D  X  X  G  D  X  X  A  D  A  X  V  X  G  D  A  X  V  V  D  X  F  \n",
      "3  : D  D  D  G  G  X  D  X  V  G  X  G  A  D  D  A  D  G  D  G  V  A  G  X  X  \n",
      "5  : A  X  X  A  D  V  X  G  V  V  G  D  A  F  X  D  X  D  D  A  X  X  A  G  G  \n",
      "6  : V  D  D  D  D  D  D  D  X  V  X  D  A  D  D  G  V  D  V  V  G  G  D  X  X  \n",
      "1  : F  D  D  F  X  F  X  A  D  X  D  X  X  X  D  V  F  X  X  F  D  X  D  D  D  \n"
     ]
    }
   ],
   "source": [
    "NEW_ORDER_OF_ROW = [1, 6, 5, 3, 4, 2]\n",
    "\n",
    "# reverse order would represent DOWN -> UP means LEFT -> RIGHT\n",
    "\n",
    "for i in reversed(NEW_ORDER_OF_ROW):\n",
    "    print(i, ' : ', end='')\n",
    "    for index, LETTER in enumerate(cipher_str[(i-1)*NUM_OF_COLS:(i)*NUM_OF_COLS]):\n",
    "        print(LETTER, ' ', end='')\n",
    "        tmp_cipher[index].append(LETTER)\n",
    "    print(\"\")"
   ]
  },
  {
   "cell_type": "code",
   "execution_count": 43,
   "metadata": {},
   "outputs": [],
   "source": [
    "npy_matrix = []\n",
    "\n",
    "for i in NEW_ORDER_OF_ROW:\n",
    "    npy_matrix.append(list(cipher_str[(i-1)*NUM_OF_COLS:(i)*NUM_OF_COLS]))\n",
    "\n",
    "npy_matrix = np.array(npy_matrix)\n",
    "final_mat = npy_matrix.transpose()\n"
   ]
  },
  {
   "cell_type": "code",
   "execution_count": 41,
   "metadata": {},
   "outputs": [
    {
     "name": "stdout",
     "output_type": "stream",
     "text": [
      "FAN\n",
      "HER\n",
      "HEA\n",
      "DTH\n",
      "ERE\n",
      "DQU\n",
      "EEN\n",
      "ANX\n",
      "IOU\n",
      "SLY\n",
      "INT\n",
      "ERR\n",
      "UPT\n",
      "EDS\n",
      "HEL\n",
      "LBE\n",
      "FEV\n",
      "ERI\n",
      "SHA\n",
      "FTE\n",
      "RSO\n",
      "MUC\n",
      "HTH\n",
      "INK\n",
      "ING\n"
     ]
    }
   ],
   "source": [
    "for i in range(len(final_mat)):\n",
    "    for j in range(0, len(final_mat[0]), 2):\n",
    "        first_pos = ADFGVX_TO_NUM[final_mat[i][j]]\n",
    "        second_pos = ADFGVX_TO_NUM[final_mat[i][j+1]]\n",
    "\n",
    "        print(KEY[first_pos][second_pos], end='')\n",
    "    print(\"\")\n"
   ]
  },
  {
   "cell_type": "code",
   "execution_count": 42,
   "metadata": {},
   "outputs": [
    {
     "name": "stdout",
     "output_type": "stream",
     "text": [
      "FANHERHEADTHEREDQUEENANXIOUSLYINTERRUPTEDSHELLBEFEVERISHAFTERSOMUCHTHINKING"
     ]
    }
   ],
   "source": [
    "for i in range(len(final_mat)):\n",
    "    for j in range(0, len(final_mat[0]), 2):\n",
    "        first_pos = ADFGVX_TO_NUM[final_mat[i][j]]\n",
    "        second_pos = ADFGVX_TO_NUM[final_mat[i][j+1]]\n",
    "\n",
    "        print(KEY[first_pos][second_pos], end='')\n"
   ]
  },
  {
   "attachments": {},
   "cell_type": "markdown",
   "metadata": {},
   "source": [
    "## FAN HER HEAD THE RED QUEEN ANXIOUSLY INTERRUPTED SHELL BE FEVERISH AFTER SO MUCH THINKING"
   ]
  }
 ],
 "metadata": {
  "kernelspec": {
   "display_name": "Python 3",
   "language": "python",
   "name": "python3"
  },
  "language_info": {
   "codemirror_mode": {
    "name": "ipython",
    "version": 3
   },
   "file_extension": ".py",
   "mimetype": "text/x-python",
   "name": "python",
   "nbconvert_exporter": "python",
   "pygments_lexer": "ipython3",
   "version": "3.10.9 (tags/v3.10.9:1dd9be6, Dec  6 2022, 20:01:21) [MSC v.1934 64 bit (AMD64)]"
  },
  "orig_nbformat": 4,
  "vscode": {
   "interpreter": {
    "hash": "eaf19cdec2e828971a8f1b3f8a05d25adfb7e416d3e3fa69f7741b1aac1d4820"
   }
  }
 },
 "nbformat": 4,
 "nbformat_minor": 2
}
