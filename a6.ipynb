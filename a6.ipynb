{
 "cells": [
  {
   "cell_type": "code",
   "execution_count": 136,
   "metadata": {},
   "outputs": [
    {
     "name": "stdout",
     "output_type": "stream",
     "text": [
      "F  D  D  F  X  F  X  A  D  X  D  X  X  X  D  V  F  X  X  F  D  X  D  D  D   \n",
      "X  G  D  D  D  A  X  F  A  F  G  G  G  V  G  D  D  X  D  D  V  D  D  X  A   \n",
      "D  D  D  G  G  X  D  X  V  G  X  G  A  D  D  A  D  G  D  G  V  A  G  X  X   \n",
      "G  D  A  D  X  X  G  D  X  X  A  D  A  X  V  X  G  D  A  X  V  V  D  X  F   \n",
      "A  X  X  A  D  V  X  G  V  V  G  D  A  F  X  D  X  D  D  A  X  X  A  G  G   \n",
      "V  D  D  D  D  D  D  D  X  V  X  D  A  D  D  G  V  D  V  V  G  G  D  X  X   \n"
     ]
    }
   ],
   "source": [
    "cipher_str = 'FDDFX FXADX DXXXD VFXXF DXDDD XGDDD AXFAF GGGVG DDXDD VDDXA DDDGG XDXVG XGADD ADGDG VAGXX GDADX XGDXX ADAXV XGDAX VVDXF AXXAD VXGVV GDAFX DXDDA XXAGG VDDDD DDDXV XDADD GVDVV GGDXX'\n",
    "cipher_str = (\"\").join(cipher_str.split(\" \"))\n",
    "cipher = list(cipher_str)\n",
    "\n",
    "NUM_OF_ROWS = 6\n",
    "NUM_OF_COLS = int(len(cipher)/NUM_OF_ROWS)\n",
    "\n",
    "# tmp_cipher = [['*']*6]*25\n",
    "tmp_cipher = []\n",
    "\n",
    "for i in range(6):\n",
    "    tmp_cipher.append(list(cipher_str[i*NUM_OF_COLS:(i+1)*NUM_OF_COLS]))\n",
    "\n",
    "result = [['*']*6]*25\n",
    "\n",
    "# iterate through rows\n",
    "for i in range(len(tmp_cipher)):\n",
    "   # iterate through columns\n",
    "   for j in range(len(tmp_cipher[0])):\n",
    "       result[j][i] = tmp_cipher[i][j]\n",
    "       print(tmp_cipher[i][j], ' ', end='')\n",
    "   print(\" \")\n",
    "\n",
    "\n",
    "cipher = tmp_cipher\n",
    "# updated cipher to have 6 rows\n",
    "# result"
   ]
  },
  {
   "cell_type": "code",
   "execution_count": 54,
   "metadata": {},
   "outputs": [
    {
     "data": {
      "text/plain": [
       "'VGXFDXGXAGXDDGDGXAAA'"
      ]
     },
     "execution_count": 54,
     "metadata": {},
     "output_type": "execute_result"
    }
   ],
   "source": [
    "KEY = [\n",
    "    ['P', 'A', '6', 'T', '9', '0'],\n",
    "    ['B', 'H', 'X', 'R', '7', 'I'],\n",
    "    ['G', 'D', '4', '5', 'F', 'Z'],\n",
    "    ['W', 'V', '2', '3', '8', 'N'],\n",
    "    ['J', 'C', '1', 'L', 'O', 'Q'],\n",
    "    ['U', 'E', 'Y', 'M', 'S', 'K'],\n",
    "]\n",
    "\n",
    "ADFGVX_TO_NUM = {'A': 0, 'D': 1, 'F': 2, 'G': 3, 'V': 4, 'X': 5}\n",
    "NUM_TO_ADFGVX = {0: 'A', 1: 'D', 2: 'F', 3: 'G', 4: 'V', 5: 'X'}\n",
    "\n",
    "CLUE = 'LYINTERRUP'\n",
    "CLUE_TO_ADFGVX = ''\n",
    "\n",
    "for letter in CLUE:\n",
    "    for i in range(6):\n",
    "        for j in range(6):\n",
    "            if KEY[i][j] == letter:\n",
    "                CLUE_TO_ADFGVX += (NUM_TO_ADFGVX[i] + NUM_TO_ADFGVX[j])\n",
    "                # print(letter, NUM_TO_ADFGVX[i], NUM_TO_ADFGVX[j])\n",
    "\n",
    "CLUE_TO_ADFGVX"
   ]
  },
  {
   "cell_type": "code",
   "execution_count": 85,
   "metadata": {},
   "outputs": [
    {
     "name": "stdout",
     "output_type": "stream",
     "text": [
      "V  G  X  F  D  X  \n",
      "G  X  A  G  X  D  \n",
      "D  G  D  G  X  A  \n",
      "A  A  \n",
      "--------- \n",
      "*  *  V  G  X  F  \n",
      "D  X  G  X  A  G  \n",
      "X  D  D  G  D  G  \n",
      "X  A  A  A  \n",
      "--------- \n",
      "*  *  *  *  V  G  \n",
      "X  F  D  X  G  X  \n",
      "A  G  X  D  D  G  \n",
      "D  G  X  A  A  A  \n",
      "\n",
      "--------- \n"
     ]
    }
   ],
   "source": [
    "# Find CLUE_TO_ADFGVX in cipher_str\n",
    "CLUE_MATRIX = []\n",
    "\n",
    "for o in range(0, 6, 2):\n",
    "    tmp_arr = ['O']*o\n",
    "    print('*  '*o,end='')\n",
    "    for i, letter in enumerate(CLUE_TO_ADFGVX):\n",
    "        tmp_arr.append(letter)\n",
    "        print(letter, ' ', end='')\n",
    "        if (i+o+1) % 6 == 0:\n",
    "            print(\"\")\n",
    "            CLUE_MATRIX.append(tmp_arr)\n",
    "            tmp_arr = []\n",
    "        \n",
    "        if i+1 == len(CLUE_TO_ADFGVX):\n",
    "            CLUE_MATRIX.append(tmp_arr)\n",
    "    print(\"\\n--------- \")\n",
    "    # print(CLUE_MATRIX)\n",
    "    CLUE_MATRIX=[]"
   ]
  },
  {
   "cell_type": "code",
   "execution_count": null,
   "metadata": {},
   "outputs": [],
   "source": []
  }
 ],
 "metadata": {
  "kernelspec": {
   "display_name": "Python 3.11.0 64-bit",
   "language": "python",
   "name": "python3"
  },
  "language_info": {
   "codemirror_mode": {
    "name": "ipython",
    "version": 3
   },
   "file_extension": ".py",
   "mimetype": "text/x-python",
   "name": "python",
   "nbconvert_exporter": "python",
   "pygments_lexer": "ipython3",
   "version": "3.11.0"
  },
  "orig_nbformat": 4,
  "vscode": {
   "interpreter": {
    "hash": "bc8aaad90f9dd1b0aed67e50afa4c3eeab1b08e7c70f9117c907523dc42af02b"
   }
  }
 },
 "nbformat": 4,
 "nbformat_minor": 2
}
