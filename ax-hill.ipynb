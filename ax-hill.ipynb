{
 "cells": [
  {
   "cell_type": "code",
   "execution_count": 11,
   "metadata": {},
   "outputs": [],
   "source": [
    "import numpy as np"
   ]
  },
  {
   "cell_type": "code",
   "execution_count": 25,
   "metadata": {},
   "outputs": [
    {
     "data": {
      "text/plain": [
       "array([[14,  6, 11, 21],\n",
       "       [ 4, 26, 15, 17],\n",
       "       [ 0, 19,  3, 11],\n",
       "       [22, 28, 14, 19]])"
      ]
     },
     "execution_count": 25,
     "metadata": {},
     "output_type": "execute_result"
    }
   ],
   "source": [
    "\n",
    "alphabet = ['A','B','C','D','E','F','G','H','I','J','K','L','M','N','O','P','Q','R','S','T','U','V','W','X','Y','Z','.','!','?']\n",
    "\n",
    "cipher = 'ASZCKAIOKZZ?OYREYRTWWKFNFHO?RUTMXQUUWBIYJOKIESFWYHFVHYKPIKMKFZSBCS.EECCYSJPTAPASSQ.QSUOEFFOCJS.J'\n",
    "\n",
    "cipher_num = []\n",
    "\n",
    "for i in cipher:\n",
    "    cipher_num.append(alphabet.index(i))\n",
    "\n",
    "key = np.array([\n",
    "    [14 , 6, 11, 21], \n",
    "    [ 4 ,26 ,15 ,17],\n",
    "    [ 0 ,19 , 3, 11],\n",
    "    [22 ,28 ,14 ,19]\n",
    "])\n",
    "key"
   ]
  },
  {
   "cell_type": "code",
   "execution_count": 54,
   "metadata": {},
   "outputs": [
    {
     "data": {
      "text/plain": [
       "array([[ 0, 10, 10, 14, 24, 22,  5, 17, 23, 22,  9,  4, 24,  7,  8,  5,\n",
       "         2,  4, 18,  0, 18, 18,  5,  9],\n",
       "       [18,  0, 25, 24, 17, 10,  7, 20, 16,  1, 14, 18,  7, 24, 10, 25,\n",
       "        18,  2,  9, 15, 16, 20,  5, 18],\n",
       "       [25,  8, 25, 17, 19,  5, 14, 19, 20,  8, 10,  5,  5, 10, 12, 18,\n",
       "        26,  2, 15,  0, 26, 14, 14, 26],\n",
       "       [ 2, 14, 28,  4, 22, 13, 28, 12, 20, 24,  8, 22, 21, 15, 10,  1,\n",
       "         4, 24, 19, 18, 16,  4,  2,  9]])"
      ]
     },
     "execution_count": 54,
     "metadata": {},
     "output_type": "execute_result"
    }
   ],
   "source": [
    "matrix_cipher = []\n",
    "\n",
    "for i in range(0, len(cipher_num), 4):\n",
    "    matrix_cipher.append(list(cipher_num[i:i+4]))\n",
    "\n",
    "matrix_cipher = np.array(matrix_cipher).transpose()\n",
    "matrix_cipher"
   ]
  },
  {
   "cell_type": "code",
   "execution_count": 63,
   "metadata": {},
   "outputs": [
    {
     "data": {
      "text/plain": [
       "array([['T', 'H', 'E', 'W'],\n",
       "       ['A', 'V', 'E', 'S'],\n",
       "       ['W', 'E', 'R', 'E'],\n",
       "       ['C', 'R', 'A', 'S'],\n",
       "       ['H', 'I', 'N', 'G'],\n",
       "       ['A', 'G', 'A', 'I'],\n",
       "       ['N', 'S', 'T', 'T'],\n",
       "       ['H', 'E', 'S', 'H'],\n",
       "       ['O', 'R', 'E', 'T'],\n",
       "       ['H', 'E', 'R', 'H'],\n",
       "       ['Y', 'T', 'H', 'M'],\n",
       "       ['O', 'F', 'T', 'H'],\n",
       "       ['E', 'O', 'C', 'E'],\n",
       "       ['A', 'N', 'N', 'E'],\n",
       "       ['V', 'E', 'R', 'C'],\n",
       "       ['E', 'A', 'S', 'I'],\n",
       "       ['N', 'G', 'A', 'C'],\n",
       "       ['O', 'N', 'S', 'T'],\n",
       "       ['A', 'N', 'T', 'B'],\n",
       "       ['E', 'A', 'T', 'I'],\n",
       "       ['N', 'T', 'H', 'E'],\n",
       "       ['B', 'A', 'C', 'K'],\n",
       "       ['G', 'R', 'O', 'U'],\n",
       "       ['N', 'D', '.', 'T']], dtype='<U1')"
      ]
     },
     "execution_count": 63,
     "metadata": {},
     "output_type": "execute_result"
    }
   ],
   "source": [
    "num_pt = np.dot(key, matrix_cipher) % 29\n",
    "\n",
    "text_pt = np.array([['Z']*matrix_cipher.shape[1]]*matrix_cipher.shape[0])\n",
    "\n",
    "for i in range(len(num_pt)):\n",
    "    for j in range(len(num_pt[i])):\n",
    "        # print(alphabet[num_pt[i][j]])\n",
    "        text_pt[i][j] = alphabet[num_pt[i][j]]\n",
    "\n",
    "np.savetxt('x-hill.txt', text_pt, fmt = '%s')\n",
    "text_pt.transpose()"
   ]
  },
  {
   "cell_type": "code",
   "execution_count": 65,
   "metadata": {},
   "outputs": [
    {
     "name": "stdout",
     "output_type": "stream",
     "text": [
      "THEWAVESWERECRASHINGAGAINSTTHESHORETHERHYTHMOFTHEOCEANNEVERCEASINGACONSTANTBEATINTHEBACKGROUND.T"
     ]
    }
   ],
   "source": [
    "for i in text_pt.transpose():\n",
    "    for j in i:\n",
    "        print(j, end='')"
   ]
  }
 ],
 "metadata": {
  "kernelspec": {
   "display_name": "Python 3",
   "language": "python",
   "name": "python3"
  },
  "language_info": {
   "codemirror_mode": {
    "name": "ipython",
    "version": 3
   },
   "file_extension": ".py",
   "mimetype": "text/x-python",
   "name": "python",
   "nbconvert_exporter": "python",
   "pygments_lexer": "ipython3",
   "version": "3.10.9"
  },
  "orig_nbformat": 4,
  "vscode": {
   "interpreter": {
    "hash": "eaf19cdec2e828971a8f1b3f8a05d25adfb7e416d3e3fa69f7741b1aac1d4820"
   }
  }
 },
 "nbformat": 4,
 "nbformat_minor": 2
}
