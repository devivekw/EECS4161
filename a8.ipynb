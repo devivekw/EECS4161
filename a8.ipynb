{
 "cells": [
  {
   "cell_type": "code",
   "execution_count": 18,
   "metadata": {},
   "outputs": [],
   "source": [
    "import numpy as np"
   ]
  },
  {
   "cell_type": "code",
   "execution_count": 25,
   "metadata": {},
   "outputs": [],
   "source": [
    "ALPHABET = ['A','B','C','D','E','F','G','H','I', 'J','K','L','M','N','O','P','Q','R','S','T','U','V','W','X','Y','Z']\n",
    "CIPHER = 'ZWEVFHDEPCNLIZDKSZGSYTAQBRSHWRODQADNLFZUOT'\n",
    "\n",
    "K1 = [11, 0, 19, 23]\n",
    "K2 = [12, 11, 3, 1, 2]"
   ]
  },
  {
   "cell_type": "code",
   "execution_count": 29,
   "metadata": {},
   "outputs": [
    {
     "name": "stdout",
     "output_type": "stream",
     "text": [
      "WHATSTHEBESTWAYTOCARVEWOODWHITTLEBYWHITTLE"
     ]
    }
   ],
   "source": [
    "for i in range(len(CIPHER)):\n",
    "    \n",
    "    c = CIPHER[i]\n",
    "    c_num = ALPHABET.index(c)\n",
    "\n",
    "    K = (K1[i % len(K1)] + K2[i % len(K2)]) % 26\n",
    "\n",
    "    ind = (c_num + K) % 26\n",
    "\n",
    "    print(ALPHABET[ind], end='')"
   ]
  },
  {
   "attachments": {},
   "cell_type": "markdown",
   "metadata": {},
   "source": [
    "## WHATS THE BEST WAY TO CARVE WOOD WHITTLE BY WHITTLE"
   ]
  }
 ],
 "metadata": {
  "kernelspec": {
   "display_name": "Python 3",
   "language": "python",
   "name": "python3"
  },
  "language_info": {
   "codemirror_mode": {
    "name": "ipython",
    "version": 3
   },
   "file_extension": ".py",
   "mimetype": "text/x-python",
   "name": "python",
   "nbconvert_exporter": "python",
   "pygments_lexer": "ipython3",
   "version": "3.10.9"
  },
  "orig_nbformat": 4,
  "vscode": {
   "interpreter": {
    "hash": "eaf19cdec2e828971a8f1b3f8a05d25adfb7e416d3e3fa69f7741b1aac1d4820"
   }
  }
 },
 "nbformat": 4,
 "nbformat_minor": 2
}
