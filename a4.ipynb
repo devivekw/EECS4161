{
 "cells": [
  {
   "cell_type": "code",
   "execution_count": 67,
   "metadata": {},
   "outputs": [],
   "source": [
    "import numpy as np"
   ]
  },
  {
   "cell_type": "code",
   "execution_count": 9,
   "metadata": {},
   "outputs": [],
   "source": [
    "cypher_str = '39-116-33-25 106-121-49 77-100-92-88-33 28-43-62-100 85-34-25-48 84-120-71 106-97-78 113-68-116-18-34-111 54-116-60-112-59-30-109-94-66 1-91-12 18-88-125-60-121-96 116-60 42-112-79-88-59 101-59-6'"
   ]
  },
  {
   "cell_type": "code",
   "execution_count": 87,
   "metadata": {},
   "outputs": [
    {
     "data": {
      "text/plain": [
       "['39-116-33-25',\n",
       " '106-121-49',\n",
       " '77-100-92-88-33',\n",
       " '28-43-62-100',\n",
       " '85-34-25-48',\n",
       " '84-120-71',\n",
       " '106-97-78',\n",
       " '113-68-116-18-34-111',\n",
       " '54-116-60-112-59-30-109-94-66',\n",
       " '1-91-12',\n",
       " '18-88-125-60-121-96',\n",
       " '116-60',\n",
       " '42-112-79-88-59',\n",
       " '101-59-6']"
      ]
     },
     "execution_count": 87,
     "metadata": {},
     "output_type": "execute_result"
    }
   ],
   "source": [
    "cypher = cypher_str.split(' ');\n",
    "cypher_sorted = sorted(cypher, key=len)\n",
    "cypher"
   ]
  },
  {
   "cell_type": "code",
   "execution_count": 154,
   "metadata": {},
   "outputs": [
    {
     "name": "stdout",
     "output_type": "stream",
     "text": [
      "1  :  ['39', '116', '33', '25']\n",
      "2  :  ['106', '121', '49']\n",
      "3  :  ['77', '100', '92', '88', '33']\n",
      "4  :  ['28', '43', '62', '100']\n",
      "5  :  ['85', '34', '25', '48']\n",
      "6  :  ['84', '120', '71']\n",
      "7  :  ['106', '97', '78']\n",
      "8  :  ['113', '68', '116', '18', '34', '111']\n",
      "9  :  ['54', '116', '60', '112', '59', '30', '109', '94', '66']\n",
      "10  :  ['1', '91', '12']\n",
      "11  :  ['18', '88', '125', '60', '121', '96']\n",
      "12  :  ['116', '60']\n",
      "13  :  ['42', '112', '79', '88', '59']\n",
      "14  :  ['101', '59', '6']\n"
     ]
    }
   ],
   "source": [
    "cypher_split = []\n",
    "for c in cypher:\n",
    "    cypher_split.append(c.split('-'))\n",
    "\n",
    "for count, word in enumerate(cypher_split):\n",
    "    print(count + 1, \" : \", word)"
   ]
  },
  {
   "cell_type": "code",
   "execution_count": 55,
   "metadata": {},
   "outputs": [
    {
     "name": "stdout",
     "output_type": "stream",
     "text": [
      "2  :  106 121\n",
      "3  :  77 100\n",
      "3  :  100 92\n",
      "3  :  92 88\n",
      "4  :  28 43\n",
      "7  :  97 78\n",
      "13  :  79 88\n"
     ]
    }
   ],
   "source": [
    "for count, word in enumerate(cypher_split):\n",
    "    for i in range(len(word) - 1):\n",
    "        if ((int(word[i]) - 1) // 25) == ((int(word[i+1]) - 1) // 25):\n",
    "            print(count + 1, \" : \", word[i], word[i+1])\n",
    "    "
   ]
  },
  {
   "cell_type": "markdown",
   "metadata": {},
   "source": [
    "**The above for loop shows us that 3'rd word has four characters using the same key**"
   ]
  },
  {
   "cell_type": "code",
   "execution_count": 86,
   "metadata": {},
   "outputs": [
    {
     "name": "stdout",
     "output_type": "stream",
     "text": [
      "B C D E F G H I K L M N O P Q R S T U V W X Y Z A\n",
      "Z A B C D E F G H I K L M N O P Q R S T U V W X Y\n",
      "R S T U V W X Y Z A B C D E F G H I K L M N O P Q\n",
      "N O P Q R S T U V W X Y Z A B C D E F G H I K L M\n"
     ]
    }
   ],
   "source": [
    "# Ignore the last character for now\n",
    "alphabet = np.array(['A','B','C','D','E','F','G','H','I','K','L','M','N','O','P','Q','R','S','T','U','V','W','X','Y','Z'])\n",
    "third_word = '77-100-92-88'.split('-')\n",
    "\n",
    "for letter in third_word:\n",
    "    print (\" \".join(np.roll(alphabet, -((int(letter) - 1) % 25))))"
   ]
  },
  {
   "cell_type": "code",
   "execution_count": 150,
   "metadata": {},
   "outputs": [
    {
     "name": "stdout",
     "output_type": "stream",
     "text": [
      "1  :  ['39', '116', '33', '25']\n",
      "2  :  ['106', '121', '49']\n",
      "3  :  ['T', 'R', 'I', 'E', '33']\n",
      "4  :  ['28', '43', '62', 'R']\n",
      "5  :  ['B', '34', '25', '48']\n",
      "6  :  ['A', '120', '71']\n",
      "7  :  ['106', 'O', 'U']\n",
      "8  :  ['113', '68', '116', '18', '34', '111']\n",
      "9  :  ['54', '116', '60', '112', '59', '30', '109', 'L', '66']\n",
      "10  :  ['1', 'H', '12']\n",
      "11  :  ['18', 'E', '125', '60', '121', 'N']\n",
      "12  :  ['116', '60']\n",
      "13  :  ['42', '112', 'V', 'E', '59']\n",
      "14  :  ['101', '59', '6']\n"
     ]
    }
   ],
   "source": [
    "import copy\n",
    "\n",
    "S_alphabet = np.roll(alphabet, -17)\n",
    "new_cypher_split = copy.deepcopy(cypher_split)\n",
    "\n",
    "for countWord, word in enumerate(new_cypher_split):\n",
    "    for countLetter, letter in enumerate(word):\n",
    "        if ((int(letter) - 1) // 25) == 3:\n",
    "            word[countLetter] = S_alphabet[(int(letter) - 1) % 25]\n",
    "    print(countWord + 1, \" : \", word)"
   ]
  },
  {
   "cell_type": "code",
   "execution_count": 158,
   "metadata": {},
   "outputs": [
    {
     "name": "stdout",
     "output_type": "stream",
     "text": [
      "106  :  Y\n",
      "105  :  X\n",
      "104  :  W\n",
      "103  :  V\n",
      "102  :  U\n",
      "101  :  T\n",
      "100  :  S\n"
     ]
    }
   ],
   "source": [
    "# we can see that in word 7, 106 represents Y\n",
    "Y_alphabet_index =  23\n",
    "for i in range(106, 99, -1):\n",
    "    print(i, \" : \", alphabet[Y_alphabet_index])\n",
    "    Y_alphabet_index -= 1 "
   ]
  },
  {
   "cell_type": "code",
   "execution_count": 161,
   "metadata": {},
   "outputs": [
    {
     "name": "stdout",
     "output_type": "stream",
     "text": [
      "1  :  ['39', 'I', '33', '25']\n",
      "2  :  ['Y', 'O', '49']\n",
      "3  :  ['T', 'R', 'I', 'E', '33']\n",
      "4  :  ['28', '43', '62', 'R']\n",
      "5  :  ['B', '34', '25', '48']\n",
      "6  :  ['A', 'N', '71']\n",
      "7  :  ['Y', 'O', 'U']\n",
      "8  :  ['F', '68', 'I', '18', '34', 'D']\n",
      "9  :  ['54', 'I', '60', 'E', '59', '30', 'B', 'L', '66']\n",
      "10  :  ['1', 'H', '12']\n",
      "11  :  ['18', 'E', 'S', '60', 'O', 'N']\n",
      "12  :  ['I', '60']\n",
      "13  :  ['42', 'E', 'V', 'E', '59']\n",
      "14  :  ['T', '59', '6']\n"
     ]
    }
   ],
   "source": [
    "# 100 also represents to S, that means our key is of the following _ _ _ S T\n",
    "S_alphabet = np.roll(alphabet, -17)\n",
    "T_alphabet = np.roll(alphabet, -18)\n",
    "new_cypher_split = copy.deepcopy(cypher_split)\n",
    "\n",
    "for countWord, word in enumerate(new_cypher_split):\n",
    "    for countLetter, letter in enumerate(word):\n",
    "        if ((int(letter) - 1) // 25) == 3:\n",
    "            word[countLetter] = S_alphabet[(int(letter) - 1) % 25]\n",
    "        elif ((int(letter) - 1) // 25) == 4:\n",
    "            word[countLetter] = T_alphabet[(int(letter) - 1) % 25]\n",
    "    print(countWord + 1, \" : \", word)"
   ]
  },
  {
   "cell_type": "code",
   "execution_count": 168,
   "metadata": {},
   "outputs": [
    {
     "name": "stdout",
     "output_type": "stream",
     "text": [
      "49  :  U\n",
      "48  :  T\n",
      "47  :  S\n",
      "46  :  R\n",
      "45  :  Q\n",
      "44  :  P\n",
      "43  :  O\n",
      "42  :  N\n",
      "41  :  M\n",
      "40  :  L\n",
      "39  :  K\n",
      "38  :  I\n",
      "37  :  H\n",
      "36  :  G\n",
      "35  :  F\n",
      "34  :  E\n",
      "33  :  D\n",
      "32  :  C\n",
      "31  :  B\n",
      "30  :  A\n",
      "29  :  Z\n",
      "28  :  Y\n",
      "27  :  X\n",
      "26  :  W\n"
     ]
    }
   ],
   "source": [
    "# we can see that in word 2, 49 represents U\n",
    "U_alphabet_index =  19\n",
    "for i in range(49, 25, -1):\n",
    "    print(i, \" : \", alphabet[U_alphabet_index])\n",
    "    U_alphabet_index -= 1 \n"
   ]
  },
  {
   "cell_type": "code",
   "execution_count": 172,
   "metadata": {},
   "outputs": [
    {
     "name": "stdout",
     "output_type": "stream",
     "text": [
      "1  :  ['K', 'I', 'D', '25']\n",
      "2  :  ['Y', 'O', 'U']\n",
      "3  :  ['T', 'R', 'I', 'E', 'D']\n",
      "4  :  ['Y', 'O', '62', 'R']\n",
      "5  :  ['B', 'E', '25', 'T']\n",
      "6  :  ['A', 'N', '71']\n",
      "7  :  ['Y', 'O', 'U']\n",
      "8  :  ['F', '68', 'I', '18', 'E', 'D']\n",
      "9  :  ['54', 'I', '60', 'E', '59', 'A', 'B', 'L', '66']\n",
      "10  :  ['1', 'H', '12']\n",
      "11  :  ['18', 'E', 'S', '60', 'O', 'N']\n",
      "12  :  ['I', '60']\n",
      "13  :  ['N', 'E', 'V', 'E', '59']\n",
      "14  :  ['T', '59', '6']\n"
     ]
    }
   ],
   "source": [
    "# 26 Represnts the letter W\n",
    "S_alphabet = np.roll(alphabet, -17)\n",
    "T_alphabet = np.roll(alphabet, -18)\n",
    "W_alphabet = np.roll(alphabet, -21)\n",
    "new_cypher_split = copy.deepcopy(cypher_split)\n",
    "\n",
    "for countWord, word in enumerate(new_cypher_split):\n",
    "    for countLetter, letter in enumerate(word):\n",
    "        if ((int(letter) - 1) // 25) == 1:\n",
    "            word[countLetter] = W_alphabet[(int(letter) - 1) % 25]\n",
    "        elif ((int(letter) - 1) // 25) == 3:\n",
    "            word[countLetter] = S_alphabet[(int(letter) - 1) % 25]\n",
    "        elif ((int(letter) - 1) // 25) == 4:\n",
    "            word[countLetter] = T_alphabet[(int(letter) - 1) % 25]\n",
    "    print(countWord + 1, \" : \", word)"
   ]
  },
  {
   "cell_type": "code",
   "execution_count": 173,
   "metadata": {},
   "outputs": [
    {
     "name": "stdout",
     "output_type": "stream",
     "text": [
      "1  :  ['K', 'I', 'D', 'S']\n",
      "2  :  ['Y', 'O', 'U']\n",
      "3  :  ['T', 'R', 'I', 'E', 'D']\n",
      "4  :  ['Y', 'O', '62', 'R']\n",
      "5  :  ['B', 'E', 'S', 'T']\n",
      "6  :  ['A', 'N', '71']\n",
      "7  :  ['Y', 'O', 'U']\n",
      "8  :  ['F', '68', 'I', 'L', 'E', 'D']\n",
      "9  :  ['54', 'I', '60', 'E', '59', 'A', 'B', 'L', '66']\n",
      "10  :  ['T', 'H', 'E']\n",
      "11  :  ['L', 'E', 'S', '60', 'O', 'N']\n",
      "12  :  ['I', '60']\n",
      "13  :  ['N', 'E', 'V', 'E', '59']\n",
      "14  :  ['T', '59', 'Y']\n"
     ]
    }
   ],
   "source": [
    "# 5th letter has 25 which represents S, implies the first letter of the key is T\n",
    "\n",
    "S_alphabet = np.roll(alphabet, -17)\n",
    "T_alphabet = np.roll(alphabet, -18)\n",
    "W_alphabet = np.roll(alphabet, -21)\n",
    "new_cypher_split = copy.deepcopy(cypher_split)\n",
    "\n",
    "for countWord, word in enumerate(new_cypher_split):\n",
    "    for countLetter, letter in enumerate(word):\n",
    "        if ((int(letter) - 1) // 25) == 0:\n",
    "            word[countLetter] = T_alphabet[(int(letter) - 1) % 25]\n",
    "        elif ((int(letter) - 1) // 25) == 1:\n",
    "            word[countLetter] = W_alphabet[(int(letter) - 1) % 25]\n",
    "        elif ((int(letter) - 1) // 25) == 3:\n",
    "            word[countLetter] = S_alphabet[(int(letter) - 1) % 25]\n",
    "        elif ((int(letter) - 1) // 25) == 4:\n",
    "            word[countLetter] = T_alphabet[(int(letter) - 1) % 25]\n",
    "    print(countWord + 1, \" : \", word)"
   ]
  },
  {
   "cell_type": "code",
   "execution_count": 177,
   "metadata": {},
   "outputs": [
    {
     "name": "stdout",
     "output_type": "stream",
     "text": [
      "1  :  ['K', 'I', 'D', 'S']\n",
      "2  :  ['Y', 'O', 'U']\n",
      "3  :  ['T', 'R', 'I', 'E', 'D']\n",
      "4  :  ['Y', 'O', 'U', 'R']\n",
      "5  :  ['B', 'E', 'S', 'T']\n",
      "6  :  ['A', 'N', 'D']\n",
      "7  :  ['Y', 'O', 'U']\n",
      "8  :  ['F', 'A', 'I', 'L', 'E', 'D']\n",
      "9  :  ['M', 'I', 'S', 'E', 'R', 'A', 'B', 'L', 'Y']\n",
      "10  :  ['T', 'H', 'E']\n",
      "11  :  ['L', 'E', 'S', 'S', 'O', 'N']\n",
      "12  :  ['I', 'S']\n",
      "13  :  ['N', 'E', 'V', 'E', 'R']\n",
      "14  :  ['T', 'R', 'Y']\n"
     ]
    }
   ],
   "source": [
    "# 62 represnts D that means the 3rd letter of the key is I\n",
    "I_alphabet = np.roll(alphabet, -8)\n",
    "S_alphabet = np.roll(alphabet, -17)\n",
    "T_alphabet = np.roll(alphabet, -18)\n",
    "W_alphabet = np.roll(alphabet, -21)\n",
    "new_cypher_split = copy.deepcopy(cypher_split)\n",
    "\n",
    "for countWord, word in enumerate(new_cypher_split):\n",
    "    for countLetter, letter in enumerate(word):\n",
    "        if ((int(letter) - 1) // 25) == 0:\n",
    "            word[countLetter] = T_alphabet[(int(letter) - 1) % 25]\n",
    "        elif ((int(letter) - 1) // 25) == 1:\n",
    "            word[countLetter] = W_alphabet[(int(letter) - 1) % 25]\n",
    "        elif ((int(letter) - 1) // 25) == 2:\n",
    "            word[countLetter] = I_alphabet[(int(letter) - 1) % 25]\n",
    "        elif ((int(letter) - 1) // 25) == 3:\n",
    "            word[countLetter] = S_alphabet[(int(letter) - 1) % 25]\n",
    "        elif ((int(letter) - 1) // 25) == 4:\n",
    "            word[countLetter] = T_alphabet[(int(letter) - 1) % 25]\n",
    "    print(countWord + 1, \" : \", word)"
   ]
  },
  {
   "cell_type": "code",
   "execution_count": 180,
   "metadata": {},
   "outputs": [
    {
     "name": "stdout",
     "output_type": "stream",
     "text": [
      "KIDS\n",
      "YOU\n",
      "TRIED\n",
      "YOUR\n",
      "BEST\n",
      "AND\n",
      "YOU\n",
      "FAILED\n",
      "MISERABLY\n",
      "THE\n",
      "LESSON\n",
      "IS\n",
      "NEVER\n",
      "TRY\n"
     ]
    }
   ],
   "source": [
    "for word in new_cypher_split:\n",
    "    print(\"\".join(word))"
   ]
  }
 ],
 "metadata": {
  "kernelspec": {
   "display_name": "Python 3.11.0 64-bit",
   "language": "python",
   "name": "python3"
  },
  "language_info": {
   "codemirror_mode": {
    "name": "ipython",
    "version": 3
   },
   "file_extension": ".py",
   "mimetype": "text/x-python",
   "name": "python",
   "nbconvert_exporter": "python",
   "pygments_lexer": "ipython3",
   "version": "3.11.0"
  },
  "orig_nbformat": 4,
  "vscode": {
   "interpreter": {
    "hash": "bc8aaad90f9dd1b0aed67e50afa4c3eeab1b08e7c70f9117c907523dc42af02b"
   }
  }
 },
 "nbformat": 4,
 "nbformat_minor": 2
}
